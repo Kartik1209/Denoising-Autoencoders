{
  "nbformat": 4,
  "nbformat_minor": 0,
  "metadata": {
    "colab": {
      "provenance": []
    },
    "kernelspec": {
      "name": "python3",
      "display_name": "Python 3"
    },
    "language_info": {
      "name": "python"
    }
  },
  "cells": [
    {
      "cell_type": "code",
      "source": [
        "import numpy as np\n",
        "import matplotlib.pyplot as plt\n",
        "from keras import Sequential\n",
        "from keras.layers import Dense, Conv2D, MaxPooling2D, UpSampling2D\n",
        "from keras.datasets import mnist"
      ],
      "metadata": {
        "id": "GuoXGQAyb5T_"
      },
      "execution_count": 1,
      "outputs": []
    },
    {
      "cell_type": "code",
      "source": [
        "(x_train, _),(x_test, _) = mnist.load_data()"
      ],
      "metadata": {
        "colab": {
          "base_uri": "https://localhost:8080/"
        },
        "id": "B4oq3sryfESd",
        "outputId": "174c07bb-93f0-4464-c574-8b607805a38d"
      },
      "execution_count": 2,
      "outputs": [
        {
          "output_type": "stream",
          "name": "stdout",
          "text": [
            "Downloading data from https://storage.googleapis.com/tensorflow/tf-keras-datasets/mnist.npz\n",
            "11490434/11490434 [==============================] - 0s 0us/step\n"
          ]
        }
      ]
    },
    {
      "cell_type": "code",
      "source": [
        "x_train = x_train.astype('float32') / 255\n",
        "x_test = x_test.astype('float32') / 255"
      ],
      "metadata": {
        "id": "pzrG8rQBfNa2"
      },
      "execution_count": 4,
      "outputs": []
    },
    {
      "cell_type": "code",
      "source": [
        "# reshape in the input data for the model\n",
        "\n",
        "x_train = x_train.reshape(len(x_train),28,28,1)\n",
        "x_test = x_test.reshape(len(x_test),28,28,1)\n",
        "x_test.shape"
      ],
      "metadata": {
        "colab": {
          "base_uri": "https://localhost:8080/"
        },
        "id": "SC4KHJRjfcKu",
        "outputId": "452b4d23-f8d9-4f77-bdf2-60f0a8d94d49"
      },
      "execution_count": 5,
      "outputs": [
        {
          "output_type": "execute_result",
          "data": {
            "text/plain": [
              "(10000, 28, 28, 1)"
            ]
          },
          "metadata": {},
          "execution_count": 5
        }
      ]
    },
    {
      "cell_type": "markdown",
      "source": [
        "Adding noise to the image."
      ],
      "metadata": {
        "id": "riyOI93df2Ub"
      }
    },
    {
      "cell_type": "code",
      "source": [
        "noise_factor = 0.6\n",
        "x_train_noisy = x_train + noise_factor * np.random.normal(loc = 0.0, scale = 1.0, size = x_train.shape)\n",
        "x_test_noisy = x_test + noise_factor * np.random.normal(loc = 0.0, scale = 1.0, size = x_test.shape)"
      ],
      "metadata": {
        "id": "h4UtcXDEfzHe"
      },
      "execution_count": 6,
      "outputs": []
    },
    {
      "cell_type": "code",
      "source": [
        "# clip the values in range 0-1\n",
        "\n",
        "x_train_noisy = np.clip(x_train_noisy, 0. , 1.)\n",
        "x_test_noisy = np.clip(x_test_noisy, 0., 1.)"
      ],
      "metadata": {
        "id": "pOQchY2ngakv"
      },
      "execution_count": 7,
      "outputs": []
    },
    {
      "cell_type": "code",
      "source": [
        "# randomly select the input image\n",
        "\n",
        "index = np.random.randint(len(x_test))\n",
        "# plot image\n",
        "plt.imshow(x_test[index].reshape(28,28))\n",
        "plt.gray()"
      ],
      "metadata": {
        "colab": {
          "base_uri": "https://localhost:8080/",
          "height": 265
        },
        "id": "LltPYHepgorH",
        "outputId": "f696a3dd-3197-46ac-dee6-e11520830126"
      },
      "execution_count": 8,
      "outputs": [
        {
          "output_type": "display_data",
          "data": {
            "text/plain": [
              "<Figure size 432x288 with 1 Axes>"
            ],
            "image/png": "[encoded data removed]"
          },
          "metadata": {
            "needs_background": "light"
          }
        }
      ]
    },
    {
      "cell_type": "code",
      "source": [
        "index = np.random.randint(len(x_test))\n",
        "# plot image\n",
        "plt.imshow(x_test_noisy[index].reshape(28,28))\n",
        "plt.gray()"
      ],
      "metadata": {
        "colab": {
          "base_uri": "https://localhost:8080/",
          "height": 265
        },
        "id": "t_7S9o1gg9fv",
        "outputId": "3300c07e-4932-4d11-ccc3-de0e7663150e"
      },
      "execution_count": 11,
      "outputs": [
        {
          "output_type": "display_data",
          "data": {
            "text/plain": [
              "<Figure size 432x288 with 1 Axes>"
            ],
            "image/png": "[encoded data removed]"
          },
          "metadata": {
            "needs_background": "light"
          }
        }
      ]
    },
    {
      "cell_type": "code",
      "source": [
        "index = np.random.randint(len(x_test))\n",
        "# plot image\n",
        "plt.imshow(x_test_noisy[index].reshape(28,28))\n",
        "plt.gray()"
      ],
      "metadata": {
        "colab": {
          "base_uri": "https://localhost:8080/",
          "height": 265
        },
        "id": "sV0lVmCChFrP",
        "outputId": "8414e61a-120b-4c11-9e40-20b83aed2ee1"
      },
      "execution_count": 12,
      "outputs": [
        {
          "output_type": "display_data",
          "data": {
            "text/plain": [
              "<Figure size 432x288 with 1 Axes>"
            ],
            "image/png": "[encoded data removed]"
          },
          "metadata": {
            "needs_background": "light"
          }
        }
      ]
    },
    {
      "cell_type": "markdown",
      "source": [
        "Model Creation"
      ],
      "metadata": {
        "id": "FYl6ElovhXaJ"
      }
    },
    {
      "cell_type": "code",
      "source": [
        "model = Sequential([\n",
        "    # encoder network\n",
        "    Conv2D(32, 3, activation = 'relu', padding = 'same', input_shape=(28,28,1)),\n",
        "    MaxPooling2D(2, padding = 'same'),\n",
        "    Conv2D(16, 3, activation = 'relu', padding = 'same'),\n",
        "    MaxPooling2D(2, padding = 'same'),\n",
        "    #decoder network\n",
        "    Conv2D(16, 3, activation = 'relu', padding = 'same'),\n",
        "    UpSampling2D(2),\n",
        "    Conv2D(32, 3, activation = 'relu', padding = 'same'),\n",
        "    UpSampling2D(2),\n",
        "    #output layer\n",
        "    Conv2D(1,3,activation = 'sigmoid', padding = 'same')\n",
        "])"
      ],
      "metadata": {
        "id": "QIeCWV7xhH8W"
      },
      "execution_count": 13,
      "outputs": []
    },
    {
      "cell_type": "code",
      "source": [
        "model.compile(optimizer='adam', loss='binary_crossentropy')\n",
        "model.summary()"
      ],
      "metadata": {
        "colab": {
          "base_uri": "https://localhost:8080/"
        },
        "id": "XMUDmwrBiT3p",
        "outputId": "89ea8d3b-e08a-4288-ba4c-4fc84b9e2c7d"
      },
      "execution_count": 14,
      "outputs": [
        {
          "output_type": "stream",
          "name": "stdout",
          "text": [
            "Model: \"sequential\"\n",
            "_________________________________________________________________\n",
            " Layer (type)                Output Shape              Param #   \n",
            "=================================================================\n",
            " conv2d (Conv2D)             (None, 28, 28, 32)        320       \n",
            "                                                                 \n",
            " max_pooling2d (MaxPooling2D  (None, 14, 14, 32)       0         \n",
            " )                                                               \n",
            "                                                                 \n",
            " conv2d_1 (Conv2D)           (None, 14, 14, 16)        4624      \n",
            "                                                                 \n",
            " max_pooling2d_1 (MaxPooling  (None, 7, 7, 16)         0         \n",
            " 2D)                                                             \n",
            "                                                                 \n",
            " conv2d_2 (Conv2D)           (None, 7, 7, 16)          2320      \n",
            "                                                                 \n",
            " up_sampling2d (UpSampling2D  (None, 14, 14, 16)       0         \n",
            " )                                                               \n",
            "                                                                 \n",
            " conv2d_3 (Conv2D)           (None, 14, 14, 32)        4640      \n",
            "                                                                 \n",
            " up_sampling2d_1 (UpSampling  (None, 28, 28, 32)       0         \n",
            " 2D)                                                             \n",
            "                                                                 \n",
            " conv2d_4 (Conv2D)           (None, 28, 28, 1)         289       \n",
            "                                                                 \n",
            "=================================================================\n",
            "Total params: 12,193\n",
            "Trainable params: 12,193\n",
            "Non-trainable params: 0\n",
            "_________________________________________________________________\n"
          ]
        }
      ]
    },
    {
      "cell_type": "code",
      "source": [
        "# train the model\n",
        "model.fit(x_train_noisy,x_train, epochs = 20, batch_size = 32, validation_data = (x_test_noisy, x_test))"
      ],
      "metadata": {
        "colab": {
          "base_uri": "https://localhost:8080/"
        },
        "id": "4uoyD2GiicZB",
        "outputId": "7e77fb77-22af-4403-f957-0eb7fde9f588"
      },
      "execution_count": 15,
      "outputs": [
        {
          "output_type": "stream",
          "name": "stdout",
          "text": [
            "Epoch 1/20\n",
            "1875/1875 [==============================] - 146s 77ms/step - loss: 0.1499 - val_loss: 0.1231\n",
            "Epoch 2/20\n",
            "1875/1875 [==============================] - 148s 79ms/step - loss: 0.1221 - val_loss: 0.1184\n",
            "Epoch 3/20\n",
            "1875/1875 [==============================] - 144s 77ms/step - loss: 0.1187 - val_loss: 0.1159\n",
            "Epoch 4/20\n",
            "1875/1875 [==============================] - 148s 79ms/step - loss: 0.1162 - val_loss: 0.1138\n",
            "Epoch 5/20\n",
            "1875/1875 [==============================] - 143s 76ms/step - loss: 0.1146 - val_loss: 0.1129\n",
            "Epoch 6/20\n",
            "1875/1875 [==============================] - 147s 78ms/step - loss: 0.1135 - val_loss: 0.1125\n",
            "Epoch 7/20\n",
            "1875/1875 [==============================] - 144s 77ms/step - loss: 0.1128 - val_loss: 0.1112\n",
            "Epoch 8/20\n",
            "1875/1875 [==============================] - 149s 79ms/step - loss: 0.1123 - val_loss: 0.1110\n",
            "Epoch 9/20\n",
            "1875/1875 [==============================] - 147s 78ms/step - loss: 0.1120 - val_loss: 0.1111\n",
            "Epoch 10/20\n",
            "1875/1875 [==============================] - 150s 80ms/step - loss: 0.1117 - val_loss: 0.1106\n",
            "Epoch 11/20\n",
            "1875/1875 [==============================] - 149s 79ms/step - loss: 0.1114 - val_loss: 0.1107\n",
            "Epoch 12/20\n",
            "1875/1875 [==============================] - 150s 80ms/step - loss: 0.1113 - val_loss: 0.1104\n",
            "Epoch 13/20\n",
            "1875/1875 [==============================] - 149s 79ms/step - loss: 0.1112 - val_loss: 0.1101\n",
            "Epoch 14/20\n",
            "1875/1875 [==============================] - 155s 83ms/step - loss: 0.1110 - val_loss: 0.1100\n",
            "Epoch 15/20\n",
            "1875/1875 [==============================] - 153s 82ms/step - loss: 0.1109 - val_loss: 0.1098\n",
            "Epoch 16/20\n",
            "1875/1875 [==============================] - 155s 83ms/step - loss: 0.1107 - val_loss: 0.1100\n",
            "Epoch 17/20\n",
            "1875/1875 [==============================] - 150s 80ms/step - loss: 0.1107 - val_loss: 0.1098\n",
            "Epoch 18/20\n",
            "1875/1875 [==============================] - 155s 83ms/step - loss: 0.1106 - val_loss: 0.1095\n",
            "Epoch 19/20\n",
            "1875/1875 [==============================] - 154s 82ms/step - loss: 0.1105 - val_loss: 0.1097\n",
            "Epoch 20/20\n",
            "1875/1875 [==============================] - 156s 83ms/step - loss: 0.1104 - val_loss: 0.1095\n"
          ]
        },
        {
          "output_type": "execute_result",
          "data": {
            "text/plain": [
              "<keras.callbacks.History at 0x7f170de951f0>"
            ]
          },
          "metadata": {},
          "execution_count": 15
        }
      ]
    },
    {
      "cell_type": "markdown",
      "source": [
        "Visualize the results"
      ],
      "metadata": {
        "id": "zS1trc2Uuj_G"
      }
    },
    {
      "cell_type": "code",
      "source": [
        "# PREDICT the results from the models\n",
        "pred = model.predict(x_test_noisy)"
      ],
      "metadata": {
        "colab": {
          "base_uri": "https://localhost:8080/"
        },
        "id": "kxi1OOqIisJw",
        "outputId": "79a11ed7-565e-4042-a78d-bde6a4708a7f"
      },
      "execution_count": 17,
      "outputs": [
        {
          "output_type": "stream",
          "name": "stdout",
          "text": [
            "313/313 [==============================] - 6s 19ms/step\n"
          ]
        }
      ]
    },
    {
      "cell_type": "code",
      "source": [
        "# randomly select the input image\n",
        "index = np.random.randint(len(x_test))\n",
        "plt.imshow(x_test_noisy[index].reshape(28,28))\n",
        "plt.gray()"
      ],
      "metadata": {
        "colab": {
          "base_uri": "https://localhost:8080/",
          "height": 265
        },
        "id": "p11yp5UCurCa",
        "outputId": "0857f65d-a48b-414b-b37a-a82e4103de3b"
      },
      "execution_count": 20,
      "outputs": [
        {
          "output_type": "display_data",
          "data": {
            "text/plain": [
              "<Figure size 432x288 with 1 Axes>"
            ],
            "image/png": "[encoded data removed]"
          },
          "metadata": {
            "needs_background": "light"
          }
        }
      ]
    },
    {
      "cell_type": "code",
      "source": [
        "#visualize the compressed image\n",
        "plt.imshow(pred[index].reshape(28,28))\n",
        "plt.gray()"
      ],
      "metadata": {
        "colab": {
          "base_uri": "https://localhost:8080/",
          "height": 265
        },
        "id": "LrmdT_nwu4oi",
        "outputId": "fcf9e8ce-6313-465a-dcc2-49cef47a3936"
      },
      "execution_count": 21,
      "outputs": [
        {
          "output_type": "display_data",
          "data": {
            "text/plain": [
              "<Figure size 432x288 with 1 Axes>"
            ],
            "image/png": "[encoded data removed]"
          },
          "metadata": {
            "needs_background": "light"
          }
        }
      ]
    },
    {
      "cell_type": "code",
      "source": [
        "index = np.random.randint(len(x_test))\n",
        "plt.figure(figsize=(10,4))\n",
        "\n",
        "ax = plt.subplot(1,2,1)\n",
        "plt.imshow(x_test_noisy[index].reshape(28,28))\n",
        "plt.gray()\n",
        "ax.get_xaxis().set_visible(False)\n",
        "ax.get_yaxis().set_visible(False)\n",
        "\n",
        "ax = plt.subplot(1,2,2)\n",
        "plt.imshow(pred[index].reshape(28,28))\n",
        "plt.gray()\n",
        "ax.get_xaxis().set_visible(False)\n",
        "ax.get_yaxis().set_visible(False)\n",
        "plt.show()"
      ],
      "metadata": {
        "colab": {
          "base_uri": "https://localhost:8080/",
          "height": 252
        },
        "id": "VgUAn7gQvDsE",
        "outputId": "b854e375-4584-436f-eadc-a6bffc3de1b6"
      },
      "execution_count": 22,
      "outputs": [
        {
          "output_type": "display_data",
          "data": {
            "text/plain": [
              "<Figure size 720x288 with 2 Axes>"
            ],
            "image/png": "[encoded data removed]"
          },
          "metadata": {
            "needs_background": "light"
          }
        }
      ]
    },
    {
      "cell_type": "code",
      "source": [
        "index = np.random.randint(len(x_test))\n",
        "plt.figure(figsize=(10,4))\n",
        "\n",
        "ax = plt.subplot(1,2,1)\n",
        "plt.imshow(x_test_noisy[index].reshape(28,28))\n",
        "plt.gray()\n",
        "ax.get_xaxis().set_visible(False)\n",
        "ax.get_yaxis().set_visible(False)\n",
        "\n",
        "ax = plt.subplot(1,2,2)\n",
        "plt.imshow(pred[index].reshape(28,28))\n",
        "plt.gray()\n",
        "ax.get_xaxis().set_visible(False)\n",
        "ax.get_yaxis().set_visible(False)\n",
        "plt.show()"
      ],
      "metadata": {
        "colab": {
          "base_uri": "https://localhost:8080/",
          "height": 252
        },
        "id": "_f_gYqZqvsCC",
        "outputId": "181aa54b-a4cc-4ac1-fdf4-4bb079b7186a"
      },
      "execution_count": 23,
      "outputs": [
        {
          "output_type": "display_data",
          "data": {
            "text/plain": [
              "<Figure size 720x288 with 2 Axes>"
            ],
            "image/png": "[encoded data removed]"
          },
          "metadata": {
            "needs_background": "light"
          }
        }
      ]
    }
  ]
}